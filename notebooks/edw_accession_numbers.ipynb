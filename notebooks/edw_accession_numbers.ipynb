{
 "cells": [
  {
   "cell_type": "markdown",
   "metadata": {},
   "source": [
    "### Download mammography accession numbers from EDW ###\n",
    "proof of concept:\n",
    "* Get EMPI and PatientID with accession_numbers from RPDR\n",
    "* Download all accession_numbers for that PatientID from EDW\n",
    "* Compare EDW and RPDR to make sure we are getting the correct accession numbers"
   ]
  },
  {
   "cell_type": "code",
   "execution_count": null,
   "metadata": {},
   "outputs": [],
   "source": [
    "import os\n",
    "import pandas as pd\n",
    "\n",
    "\n",
    "# Custom imports\n",
    "%load_ext autoreload\n",
    "%autoreload 2\n",
    "from edwdb.edw import Epic"
   ]
  },
  {
   "cell_type": "code",
   "execution_count": 6,
   "metadata": {},
   "outputs": [],
   "source": [
    "# Epic class\n",
    "def create_epic(output_dir):\n",
    "    edw_user = os.environ['EDW_USER']\n",
    "    edw_password = os.environ['EDW_PASSWORD']\n",
    "    #print(f'{edw_user}, {edw_password}')\n",
    "    epic = Epic(edw_user=edw_user,\n",
    "                edw_password=edw_password,\n",
    "                db='PHS',\n",
    "                out_dir=output_dir)\n",
    "    return epic"
   ]
  },
  {
   "cell_type": "code",
   "execution_count": 4,
   "metadata": {},
   "outputs": [],
   "source": [
    "data_dir = os.path.normpath('/mnt/obi0/andreas/data')\n",
    "project_dir = os.path.join(data_dir, 'mimage')\n",
    "rpdr_dir = os.path.normpath('/mnt/obi0/phi/ehr/rpdr/MAMMOGRAPHY2_20190905_142750')\n",
    "parquet_dir = os.path.join(rpdr_dir, 'parquet')\n",
    "notes_dir = os.path.join(parquet_dir, 'notes')\n",
    "output_dir = os.path.join(project_dir, 'edw')"
   ]
  },
  {
   "cell_type": "code",
   "execution_count": 5,
   "metadata": {},
   "outputs": [],
   "source": [
    "# Get a sample table with accession numbers that we want to compare with EDW\n",
    "rdt_file_name = 'IH24_20190905_142750_Rdt.parquet'\n",
    "rdt = pd.read_parquet(os.path.join(parquet_dir, rdt_file_name))\n",
    "rdt_mode = 'MAM'\n",
    "rdt = rdt[rdt['Mode']==rdt_mode]\n",
    "# Get an EMPI and the accession numbers\n",
    "empi_list = list(rdt['EMPI'].unique())\n",
    "empi_sample = empi_list[:10]\n",
    "rdt_sample = rdt[rdt['EMPI'].isin(empi_sample)]\n"
   ]
  }
 ],
 "metadata": {
  "kernelspec": {
   "display_name": "Python 3",
   "language": "python",
   "name": "python3"
  },
  "language_info": {
   "codemirror_mode": {
    "name": "ipython",
    "version": 3
   },
   "file_extension": ".py",
   "mimetype": "text/x-python",
   "name": "python",
   "nbconvert_exporter": "python",
   "pygments_lexer": "ipython3",
   "version": "3.7.8"
  }
 },
 "nbformat": 4,
 "nbformat_minor": 4
}
