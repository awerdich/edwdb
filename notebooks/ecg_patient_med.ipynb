{
 "cells": [
  {
   "cell_type": "markdown",
   "metadata": {},
   "source": [
    "### ECG Patient Medications ###\n",
    "Goals:\n",
    "    - pull PatientIDs and medications from EDW\n",
    "    - compare with medications from internal database\n",
    "    - pull medications for all ECG patients from internal database"
   ]
  },
  {
   "cell_type": "code",
   "execution_count": null,
   "metadata": {},
   "outputs": [],
   "source": [
    "import os\n",
    "import glob\n",
    "import numpy as np\n",
    "\n",
    "import pandas as pd\n",
    "from ehr.edw import Epic\n",
    "from ehr.edw import ExternalIdentity\n",
    "from dotenv import load_dotenv\n",
    "\n",
    "from ehr.ehr_db import EhrDb\n",
    "\n",
    "%load_ext autoreload\n",
    "%autoreload 2\n",
    "seed = 123\n",
    "\n",
    "pd.set_option('display.max_rows', 500)\n",
    "pd.set_option('display.max_columns', 500)\n",
    "pd.set_option('display.width', 1000)\n",
    "\n",
    "# SQL Alchemy to access local database\n",
    "from sqlalchemy import create_engine"
   ]
  },
  {
   "cell_type": "code",
   "execution_count": null,
   "metadata": {},
   "outputs": [],
   "source": [
    "# Files and directories\n",
    "data_root = os.path.normpath('/mnt/obi0/andreas/data/ecg')\n",
    "parquet_dir = os.path.join(data_root, 'parquet')\n",
    "\n",
    "# Database access credentials\n",
    "dotenv_file = os.path.normpath('/mnt/obi0/andreas/config/credentials.env')\n",
    "load_dotenv(dotenv_file)\n",
    "\n",
    "mgh_idtype = ExternalIdentity.MGHMRN\n",
    "\n",
    "# Epic instance\n",
    "def create_epic():\n",
    "    epic = Epic(edw_user=os.environ['EDW_USER'],\n",
    "                edw_password=os.environ['EDW_PASSWORD'],\n",
    "                db='PHS',\n",
    "                out_dir=data_root)\n",
    "    return epic"
   ]
  },
  {
   "cell_type": "code",
   "execution_count": null,
   "metadata": {},
   "outputs": [],
   "source": [
    "# Concatenate all MGH ECG files\n",
    "concatenated_parquet_file_name = 'MGH_RAW_FROM2001.parquet'\n",
    "file_list = sorted(glob.glob(os.path.join(parquet_dir, 'MGH_RAW_meta_2*.parquet')))\n",
    "def concatenate_parquet(file_list):\n",
    "    df_list = []\n",
    "    for f, file in enumerate(file_list):\n",
    "        print(f'Loading file {f+1} of {len(file_list)}: {os.path.basename(file)}')\n",
    "        df_list.append(pd.read_parquet(file))\n",
    "    df = pd.concat(df_list, ignore_index=True).reset_index(drop=True)\n",
    "    return df\n",
    "\n",
    "# Load the data\n",
    "#df = concatenate_parquet(file_list)\n",
    "#df.to_parquet(os.path.join(parquet_dir, concatenated_parquet_file_name))\n",
    "df = pd.read_parquet(os.path.join(parquet_dir, concatenated_parquet_file_name))\n",
    "print(f'Loaded {len(df.file.unique())} ECGs from {len(df.PatientID.unique())} mrns.')\n",
    "# Rename PatientID column: it is really an mrn\n",
    "df = df.rename(columns={'PatientID': 'mrn'})\n",
    "df.head()"
   ]
  },
  {
   "cell_type": "code",
   "execution_count": null,
   "metadata": {},
   "outputs": [],
   "source": [
    "# Get a sample\n",
    "np.random.seed(seed)\n",
    "df_sample = df.sample(n=50).reset_index(drop=True)\n",
    "sample_mrn_list = list(df_sample.mrn.unique())\n",
    "print(*sample_mrn_list)"
   ]
  },
  {
   "cell_type": "code",
   "execution_count": null,
   "metadata": {},
   "outputs": [],
   "source": [
    "epic = create_epic()\n",
    "df_id = epic.patientids_from_external(external_patient_list=sample_mrn_list, \n",
    "                                      external_identity=mgh_idtype)\n",
    "epic.close()\n",
    "patient_id_list = list(df_id.PatientID.unique())\n",
    "df_id.head(2)"
   ]
  },
  {
   "cell_type": "code",
   "execution_count": null,
   "metadata": {},
   "outputs": [],
   "source": [
    "chunk_sizes = {'patientids': 1000,\n",
    "               'medications': 1000}\n",
    "\n",
    "epic = create_epic()\n",
    "fetch_dict = epic.fetch(query_ids=patient_id_list,\n",
    "                        chunk_sizes=chunk_sizes)\n",
    "epic.close()"
   ]
  },
  {
   "cell_type": "code",
   "execution_count": null,
   "metadata": {},
   "outputs": [],
   "source": [
    "# Development database\n",
    "db = EhrDb(user = os.environ['EHR_DEV_USER'],\n",
    "           password = os.environ['EHR_DEV_PASSWORD'],\n",
    "           host='obi-cpu8',\n",
    "           port='5432',\n",
    "           db='ehr_dev_andreas')"
   ]
  },
  {
   "cell_type": "code",
   "execution_count": null,
   "metadata": {},
   "outputs": [],
   "source": [
    "# Load some data into the test database\n",
    "chunk_sizes = {'patientids': 1000,\n",
    "               'demographics': 1000,\n",
    "               'medications': 1000}\n",
    "               \n",
    "epic = create_epic()\n",
    "db.import_epic(name='test',\n",
    "               description='import test',\n",
    "               protocol='2019P002257',\n",
    "               query_ids=patient_id_list,\n",
    "               chunk_sizes=chunk_sizes,\n",
    "               epic=epic)\n",
    "epic.close()"
   ]
  },
  {
   "cell_type": "code",
   "execution_count": null,
   "metadata": {},
   "outputs": [],
   "source": [
    "chunk_sizes = {'reference_medication': 1000}\n",
    "epic = Epic(edw_user=os.environ['EDW_USER'],\n",
    "            edw_password=os.environ['EDW_PASSWORD'],\n",
    "            db='PHS',\n",
    "            out_dir=data_root)"
   ]
  },
  {
   "cell_type": "code",
   "execution_count": null,
   "metadata": {},
   "outputs": [],
   "source": [
    "df = epic.reference_medication()"
   ]
  }
 ],
 "metadata": {
  "kernelspec": {
   "display_name": "Python 3",
   "language": "python",
   "name": "python3"
  },
  "language_info": {
   "codemirror_mode": {
    "name": "ipython",
    "version": 3
   },
   "file_extension": ".py",
   "mimetype": "text/x-python",
   "name": "python",
   "nbconvert_exporter": "python",
   "pygments_lexer": "ipython3",
   "version": "3.7.7"
  }
 },
 "nbformat": 4,
 "nbformat_minor": 4
}
